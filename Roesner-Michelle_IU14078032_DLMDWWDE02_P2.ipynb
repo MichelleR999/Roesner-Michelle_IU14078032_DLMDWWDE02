{
 "cells": [
  {
   "cell_type": "markdown",
   "metadata": {
    "application/vnd.databricks.v1+cell": {
     "cellMetadata": {
      "byteLimit": 2048000,
      "rowLimit": 10000
     },
     "inputWidgets": {},
     "nuid": "5f902cf0-915b-4aad-90f8-efd8b00709bc",
     "showTitle": false,
     "tableResultSettingsMap": {},
     "title": ""
    }
   },
   "source": [
    "## 1. Daten simulieren & als Stream speichern (in memory)"
   ]
  },
  {
   "cell_type": "code",
   "execution_count": 0,
   "metadata": {
    "application/vnd.databricks.v1+cell": {
     "cellMetadata": {
      "byteLimit": 2048000,
      "rowLimit": 10000
     },
     "inputWidgets": {},
     "nuid": "b39173fc-3aba-4489-8677-b1d97bcfe165",
     "showTitle": false,
     "tableResultSettingsMap": {},
     "title": ""
    }
   },
   "outputs": [],
   "source": [
    "from pyspark.sql.functions import expr, current_timestamp\n",
    "\n",
    "# Erzeuge kontinuierlich neue Daten mit Spark's 'rate' Quelle\n",
    "# Diese Quelle erzeugt automatisch 1 Zeile pro Sekunde mit einer Zählspalte \"value\"\n",
    "simulierter_stream = (\n",
    "    spark.readStream\n",
    "    .format(\"rate\")\n",
    "    .option(\"rowsPerSecond\", 1)  # 1 Messwert pro Sekunde\n",
    "    .load()\n",
    "    .withColumn(\"zeitstempel\", current_timestamp())\n",
    "    .withColumn(\"sensor_id\", expr(\"concat('sensor_', CAST(rand() * 5 + 1 AS INT))\"))\n",
    "    .withColumn(\"temperatur\", expr(\"round(20 + rand() * 15, 2)\"))\n",
    ")\n",
    "\n",
    "# Schreibe den Stream in eine temporäre In-Memory-View namens \"live_daten\"\n",
    "stream_query = (\n",
    "    simulierter_stream.writeStream\n",
    "    .format(\"memory\")\n",
    "    .queryName(\"live_daten\")\n",
    "    .outputMode(\"append\")\n",
    "    .start()\n",
    ")\n"
   ]
  },
  {
   "cell_type": "markdown",
   "metadata": {
    "application/vnd.databricks.v1+cell": {
     "cellMetadata": {
      "byteLimit": 2048000,
      "rowLimit": 10000
     },
     "inputWidgets": {},
     "nuid": "0ba31d04-206e-4de6-a37e-64a19f357aaf",
     "showTitle": false,
     "tableResultSettingsMap": {},
     "title": ""
    }
   },
   "source": [
    "### Kontrollanzeige der Live-Daten"
   ]
  },
  {
   "cell_type": "code",
   "execution_count": 0,
   "metadata": {
    "application/vnd.databricks.v1+cell": {
     "cellMetadata": {
      "byteLimit": 2048000,
      "rowLimit": 10000
     },
     "inputWidgets": {},
     "nuid": "8bce3e6f-d062-4220-83bd-beea9dabeb09",
     "showTitle": false,
     "tableResultSettingsMap": {},
     "title": ""
    }
   },
   "outputs": [
    {
     "output_type": "stream",
     "name": "stdout",
     "output_type": "stream",
     "text": [
      "+--------------------+-----+--------------------+---------+----------+\n|           timestamp|value|         zeitstempel|sensor_id|temperatur|\n+--------------------+-----+--------------------+---------+----------+\n|2025-06-24 18:11:...|    0|2025-06-24 18:11:...| sensor_1|     24.17|\n|2025-06-24 18:11:...|    4|2025-06-24 18:11:...| sensor_4|     23.62|\n|2025-06-24 18:11:...|    8|2025-06-24 18:11:...| sensor_2|     31.41|\n|2025-06-24 18:11:...|    1|2025-06-24 18:11:...| sensor_2|     22.18|\n|2025-06-24 18:11:...|    5|2025-06-24 18:11:...| sensor_4|     32.43|\n|2025-06-24 18:11:...|    9|2025-06-24 18:11:...| sensor_5|     20.64|\n|2025-06-24 18:11:...|    2|2025-06-24 18:11:...| sensor_2|     22.41|\n|2025-06-24 18:11:...|    6|2025-06-24 18:11:...| sensor_1|     27.42|\n|2025-06-24 18:11:...|   10|2025-06-24 18:11:...| sensor_3|     32.44|\n|2025-06-24 18:11:...|    3|2025-06-24 18:11:...| sensor_2|     22.23|\n|2025-06-24 18:11:...|    7|2025-06-24 18:11:...| sensor_4|     24.32|\n|2025-06-24 18:11:...|   11|2025-06-24 18:11:...| sensor_1|     31.02|\n|2025-06-24 18:11:...|   12|2025-06-24 18:11:...| sensor_3|     20.22|\n|2025-06-24 18:11:...|   16|2025-06-24 18:11:...| sensor_3|     20.37|\n|2025-06-24 18:11:...|   20|2025-06-24 18:11:...| sensor_2|     24.63|\n|2025-06-24 18:11:...|   24|2025-06-24 18:11:...| sensor_3|     31.12|\n|2025-06-24 18:11:...|   28|2025-06-24 18:11:...| sensor_4|     32.55|\n|2025-06-24 18:11:...|   13|2025-06-24 18:11:...| sensor_3|     27.03|\n|2025-06-24 18:11:...|   17|2025-06-24 18:11:...| sensor_3|     29.89|\n|2025-06-24 18:11:...|   21|2025-06-24 18:11:...| sensor_2|     20.56|\n+--------------------+-----+--------------------+---------+----------+\nonly showing top 20 rows\n\n"
     ]
    }
   ],
   "source": [
    "# Zeige aktuelle Live-Daten aus der In-Memory View\n",
    "spark.sql(\"SELECT * FROM live_daten\").show()\n"
   ]
  },
  {
   "cell_type": "markdown",
   "metadata": {
    "application/vnd.databricks.v1+cell": {
     "cellMetadata": {
      "byteLimit": 2048000,
      "rowLimit": 10000
     },
     "inputWidgets": {},
     "nuid": "bca79917-03c9-4a72-bdd4-4d3c3dfe5842",
     "showTitle": false,
     "tableResultSettingsMap": {},
     "title": ""
    }
   },
   "source": [
    "## 2. Aggregation über Zeitfenster – Durchschnittstemperatur pro Sensor und Minute"
   ]
  },
  {
   "cell_type": "code",
   "execution_count": 0,
   "metadata": {
    "application/vnd.databricks.v1+cell": {
     "cellMetadata": {
      "byteLimit": 2048000,
      "rowLimit": 10000
     },
     "inputWidgets": {},
     "nuid": "a01a6ed0-ee6e-4c9d-a083-ff9d7ee9a69a",
     "showTitle": false,
     "tableResultSettingsMap": {},
     "title": ""
    }
   },
   "outputs": [],
   "source": [
    "from pyspark.sql.functions import window, avg\n",
    "\n",
    "# Aggregiere direkt den bestehenden Streaming-DataFrame\n",
    "aggregierte_daten = (\n",
    "    simulierter_stream\n",
    "    .groupBy(\n",
    "        window(\"zeitstempel\", \"1 minute\"),  # Zeitfenster von 1 Minute\n",
    "        \"sensor_id\"\n",
    "    )\n",
    "    .agg(\n",
    "        avg(\"temperatur\").alias(\"durchschnitt_temperatur\")\n",
    "    )\n",
    "    .selectExpr(\n",
    "        \"window.start as fenster_start\",\n",
    "        \"window.end as fenster_ende\",\n",
    "        \"sensor_id\",\n",
    "        \"round(durchschnitt_temperatur, 2) as temperatur_avg\"\n",
    "    )\n",
    ")\n"
   ]
  },
  {
   "cell_type": "markdown",
   "metadata": {
    "application/vnd.databricks.v1+cell": {
     "cellMetadata": {
      "byteLimit": 2048000,
      "rowLimit": 10000
     },
     "inputWidgets": {},
     "nuid": "21d7fec6-defd-4b4f-809c-a67dc39b2364",
     "showTitle": false,
     "tableResultSettingsMap": {},
     "title": ""
    }
   },
   "source": [
    "### Ergebnis in eine neue In-Memory-View"
   ]
  },
  {
   "cell_type": "code",
   "execution_count": 0,
   "metadata": {
    "application/vnd.databricks.v1+cell": {
     "cellMetadata": {
      "byteLimit": 2048000,
      "rowLimit": 10000
     },
     "inputWidgets": {},
     "nuid": "e56696a0-b97e-4cc2-a293-fa7c01949c33",
     "showTitle": false,
     "tableResultSettingsMap": {},
     "title": ""
    }
   },
   "outputs": [],
   "source": [
    "\n",
    "# Starte neuen Streaming-Job für die aggregierten Ergebnisse\n",
    "aggregations_stream = (\n",
    "    aggregierte_daten.writeStream\n",
    "    .format(\"memory\")\n",
    "    .queryName(\"temperatur_pro_minute\")\n",
    "    .outputMode(\"complete\")\n",
    "    .start()\n",
    ")\n"
   ]
  },
  {
   "cell_type": "markdown",
   "metadata": {
    "application/vnd.databricks.v1+cell": {
     "cellMetadata": {
      "byteLimit": 2048000,
      "rowLimit": 10000
     },
     "inputWidgets": {},
     "nuid": "4bc2d67b-363c-41a9-a16e-5dc159a3af70",
     "showTitle": false,
     "tableResultSettingsMap": {},
     "title": ""
    }
   },
   "source": [
    "### Ergebnisse der agregierten Werte"
   ]
  },
  {
   "cell_type": "code",
   "execution_count": 0,
   "metadata": {
    "application/vnd.databricks.v1+cell": {
     "cellMetadata": {
      "byteLimit": 2048000,
      "rowLimit": 10000
     },
     "inputWidgets": {},
     "nuid": "715546d4-71fc-48e9-bfd8-3ae8144a103a",
     "showTitle": false,
     "tableResultSettingsMap": {},
     "title": ""
    }
   },
   "outputs": [
    {
     "output_type": "stream",
     "name": "stdout",
     "output_type": "stream",
     "text": [
      "+-------------------+-------------------+---------+--------------+\n|      fenster_start|       fenster_ende|sensor_id|temperatur_avg|\n+-------------------+-------------------+---------+--------------+\n|2025-06-24 18:16:00|2025-06-24 18:17:00| sensor_4|         28.33|\n|2025-06-24 18:17:00|2025-06-24 18:18:00| sensor_1|         25.77|\n|2025-06-24 18:11:00|2025-06-24 18:12:00| sensor_4|         28.06|\n|2025-06-24 18:13:00|2025-06-24 18:14:00| sensor_2|         28.02|\n|2025-06-24 18:15:00|2025-06-24 18:16:00| sensor_2|         25.98|\n|2025-06-24 18:15:00|2025-06-24 18:16:00| sensor_4|         25.63|\n|2025-06-24 18:17:00|2025-06-24 18:18:00| sensor_4|         26.91|\n|2025-06-24 18:11:00|2025-06-24 18:12:00| sensor_1|         28.89|\n|2025-06-24 18:16:00|2025-06-24 18:17:00| sensor_5|         26.87|\n|2025-06-24 18:18:00|2025-06-24 18:19:00| sensor_4|         25.29|\n|2025-06-24 18:17:00|2025-06-24 18:18:00| sensor_2|         27.39|\n|2025-06-24 18:17:00|2025-06-24 18:18:00| sensor_5|         26.39|\n|2025-06-24 18:11:00|2025-06-24 18:12:00| sensor_2|         26.96|\n|2025-06-24 18:13:00|2025-06-24 18:14:00| sensor_3|         25.86|\n|2025-06-24 18:16:00|2025-06-24 18:17:00| sensor_1|         25.77|\n|2025-06-24 18:18:00|2025-06-24 18:19:00| sensor_3|         27.66|\n|2025-06-24 18:13:00|2025-06-24 18:14:00| sensor_4|         27.31|\n|2025-06-24 18:14:00|2025-06-24 18:15:00| sensor_3|         28.85|\n|2025-06-24 18:15:00|2025-06-24 18:16:00| sensor_3|         25.38|\n|2025-06-24 18:13:00|2025-06-24 18:14:00| sensor_5|         26.28|\n+-------------------+-------------------+---------+--------------+\nonly showing top 20 rows\n\n"
     ]
    }
   ],
   "source": [
    "# Zeige aggregierte Werte \n",
    "spark.sql(\"SELECT * FROM temperatur_pro_minute\").show()\n"
   ]
  },
  {
   "cell_type": "markdown",
   "metadata": {
    "application/vnd.databricks.v1+cell": {
     "cellMetadata": {
      "byteLimit": 2048000,
      "rowLimit": 10000
     },
     "inputWidgets": {},
     "nuid": "88191d55-6f80-4420-b04f-216ddbfbc101",
     "showTitle": false,
     "tableResultSettingsMap": {},
     "title": ""
    }
   },
   "source": [
    "## 3. Kritische Werte filtern"
   ]
  },
  {
   "cell_type": "code",
   "execution_count": 0,
   "metadata": {
    "application/vnd.databricks.v1+cell": {
     "cellMetadata": {
      "byteLimit": 2048000,
      "rowLimit": 10000
     },
     "inputWidgets": {},
     "nuid": "86f421d6-5680-4d44-b9f9-99089adecb9c",
     "showTitle": false,
     "tableResultSettingsMap": {},
     "title": ""
    }
   },
   "outputs": [],
   "source": [
    "# Filtere alle Temperaturwerte über 28 Grad (z. B. als Anomalie)\n",
    "kritische_temperaturen = simulierter_stream.filter(\"temperatur > 28\")\n",
    "\n",
    "# Starte neuen Streaming-Job für die kritischen Werte\n",
    "kritisch_stream = (\n",
    "    kritische_temperaturen.writeStream\n",
    "    .format(\"memory\")\n",
    "    .queryName(\"kritische_temperaturen\")\n",
    "    .outputMode(\"append\")\n",
    "    .start()\n",
    ")\n"
   ]
  },
  {
   "cell_type": "markdown",
   "metadata": {
    "application/vnd.databricks.v1+cell": {
     "cellMetadata": {
      "byteLimit": 2048000,
      "rowLimit": 10000
     },
     "inputWidgets": {},
     "nuid": "0e44b17d-0638-4074-b148-afaf722c333a",
     "showTitle": false,
     "tableResultSettingsMap": {},
     "title": ""
    }
   },
   "source": [
    "### Kontrolle"
   ]
  },
  {
   "cell_type": "code",
   "execution_count": 0,
   "metadata": {
    "application/vnd.databricks.v1+cell": {
     "cellMetadata": {
      "byteLimit": 2048000,
      "rowLimit": 10000
     },
     "inputWidgets": {},
     "nuid": "527f1310-508f-4f9d-b9bd-9b053902687e",
     "showTitle": false,
     "tableResultSettingsMap": {},
     "title": ""
    }
   },
   "outputs": [
    {
     "output_type": "stream",
     "name": "stdout",
     "output_type": "stream",
     "text": [
      "+--------------------+-----+--------------------+---------+----------+\n|           timestamp|value|         zeitstempel|sensor_id|temperatur|\n+--------------------+-----+--------------------+---------+----------+\n|2025-06-24 18:11:...|    0|2025-06-24 18:11:...| sensor_3|     29.94|\n|2025-06-24 18:11:...|    1|2025-06-24 18:11:...| sensor_5|     29.75|\n|2025-06-24 18:11:...|    2|2025-06-24 18:11:...| sensor_5|     28.03|\n|2025-06-24 18:11:...|    3|2025-06-24 18:11:...| sensor_4|     28.61|\n|2025-06-24 18:11:...|    4|2025-06-24 18:11:...| sensor_3|     31.63|\n|2025-06-24 18:11:...|   12|2025-06-24 18:11:...| sensor_5|      33.7|\n|2025-06-24 18:11:...|   16|2025-06-24 18:11:...| sensor_2|     29.01|\n|2025-06-24 18:11:...|    5|2025-06-24 18:11:...| sensor_2|     28.56|\n|2025-06-24 18:11:...|   21|2025-06-24 18:11:...| sensor_2|     31.27|\n|2025-06-24 18:11:...|   10|2025-06-24 18:11:...| sensor_4|     34.62|\n|2025-06-24 18:11:...|   14|2025-06-24 18:11:...| sensor_3|     33.76|\n|2025-06-24 18:11:...|   18|2025-06-24 18:11:...| sensor_2|     29.17|\n|2025-06-24 18:11:...|   11|2025-06-24 18:11:...| sensor_4|     29.47|\n|2025-06-24 18:11:...|   15|2025-06-24 18:11:...| sensor_4|     34.04|\n|2025-06-24 18:11:...|   19|2025-06-24 18:11:...| sensor_3|     31.79|\n|2025-06-24 18:11:...|   23|2025-06-24 18:12:...| sensor_4|     34.46|\n|2025-06-24 18:12:...|   39|2025-06-24 18:12:...| sensor_4|     30.47|\n|2025-06-24 18:12:...|   43|2025-06-24 18:12:...| sensor_3|     30.01|\n|2025-06-24 18:11:...|   24|2025-06-24 18:12:...| sensor_3|     31.82|\n|2025-06-24 18:11:...|   28|2025-06-24 18:12:...| sensor_3|     34.74|\n+--------------------+-----+--------------------+---------+----------+\nonly showing top 20 rows\n\n"
     ]
    }
   ],
   "source": [
    "# Zeige gefilterte Werte mit Temperatur > 28 °C\n",
    "spark.sql(\"SELECT * FROM kritische_temperaturen\").show()\n"
   ]
  },
  {
   "cell_type": "markdown",
   "metadata": {
    "application/vnd.databricks.v1+cell": {
     "cellMetadata": {
      "byteLimit": 2048000,
      "rowLimit": 10000
     },
     "inputWidgets": {},
     "nuid": "c6b3e0de-9fcb-4500-b89a-5ab24fdb916e",
     "showTitle": false,
     "tableResultSettingsMap": {},
     "title": ""
    }
   },
   "source": [
    "## 4. Temperaturklassifikation in Status-Kategorien"
   ]
  },
  {
   "cell_type": "code",
   "execution_count": 0,
   "metadata": {
    "application/vnd.databricks.v1+cell": {
     "cellMetadata": {
      "byteLimit": 2048000,
      "rowLimit": 10000
     },
     "inputWidgets": {},
     "nuid": "9188fd81-06cf-4982-a9bd-c9f9e7f0cfc6",
     "showTitle": false,
     "tableResultSettingsMap": {},
     "title": ""
    }
   },
   "outputs": [],
   "source": [
    "from pyspark.sql.functions import when, col\n",
    "\n",
    "# Erweitere den ursprünglichen Stream um eine Status-Klassifikation\n",
    "klassifizierter_stream = simulierter_stream.withColumn(\n",
    "    \"status\",\n",
    "    when(col(\"temperatur\") > 28, \"kritisch\")\n",
    "    .when(col(\"temperatur\") < 22, \"niedrig\")\n",
    "    .otherwise(\"normal\")\n",
    ")\n",
    "\n",
    "# Schreibe diesen erweiterten Stream in eine neue In-Memory-View\n",
    "status_stream = (\n",
    "    klassifizierter_stream.writeStream\n",
    "    .format(\"memory\")\n",
    "    .queryName(\"sensor_daten_mit_status\")\n",
    "    .outputMode(\"append\")\n",
    "    .start()\n",
    ")\n"
   ]
  },
  {
   "cell_type": "markdown",
   "metadata": {
    "application/vnd.databricks.v1+cell": {
     "cellMetadata": {
      "byteLimit": 2048000,
      "rowLimit": 10000
     },
     "inputWidgets": {},
     "nuid": "8cf075ae-cc54-4547-802f-418377c0acca",
     "showTitle": false,
     "tableResultSettingsMap": {},
     "title": ""
    }
   },
   "source": [
    "### Kontrolle"
   ]
  },
  {
   "cell_type": "code",
   "execution_count": 0,
   "metadata": {
    "application/vnd.databricks.v1+cell": {
     "cellMetadata": {
      "byteLimit": 2048000,
      "rowLimit": 10000
     },
     "inputWidgets": {},
     "nuid": "00e4551d-2d6c-432e-bb15-4514b90908e5",
     "showTitle": false,
     "tableResultSettingsMap": {},
     "title": ""
    }
   },
   "outputs": [
    {
     "output_type": "stream",
     "name": "stdout",
     "output_type": "stream",
     "text": [
      "+--------------------+-----+--------------------+---------+----------+--------+\n|           timestamp|value|         zeitstempel|sensor_id|temperatur|  status|\n+--------------------+-----+--------------------+---------+----------+--------+\n|2025-06-24 18:11:...|    0|2025-06-24 18:11:...| sensor_3|     25.91|  normal|\n|2025-06-24 18:11:...|    4|2025-06-24 18:11:...| sensor_1|     33.54|kritisch|\n|2025-06-24 18:11:...|    8|2025-06-24 18:11:...| sensor_2|     27.58|  normal|\n|2025-06-24 18:11:...|   12|2025-06-24 18:11:...| sensor_4|     23.21|  normal|\n|2025-06-24 18:11:...|   16|2025-06-24 18:11:...| sensor_3|     34.67|kritisch|\n|2025-06-24 18:11:...|   20|2025-06-24 18:11:...| sensor_2|     21.59| niedrig|\n|2025-06-24 18:11:...|    1|2025-06-24 18:11:...| sensor_2|     23.18|  normal|\n|2025-06-24 18:11:...|    5|2025-06-24 18:11:...| sensor_5|     31.85|kritisch|\n|2025-06-24 18:11:...|    9|2025-06-24 18:11:...| sensor_3|     23.66|  normal|\n|2025-06-24 18:11:...|   13|2025-06-24 18:11:...| sensor_3|      31.7|kritisch|\n|2025-06-24 18:11:...|   17|2025-06-24 18:11:...| sensor_3|     23.35|  normal|\n|2025-06-24 18:11:...|   21|2025-06-24 18:11:...| sensor_4|     25.59|  normal|\n|2025-06-24 18:11:...|    2|2025-06-24 18:11:...| sensor_5|     29.44|kritisch|\n|2025-06-24 18:11:...|    6|2025-06-24 18:11:...| sensor_1|     29.44|kritisch|\n|2025-06-24 18:11:...|   10|2025-06-24 18:11:...| sensor_1|     28.99|kritisch|\n|2025-06-24 18:11:...|   14|2025-06-24 18:11:...| sensor_1|     25.03|  normal|\n|2025-06-24 18:11:...|   18|2025-06-24 18:11:...| sensor_2|     22.62|  normal|\n|2025-06-24 18:11:...|    3|2025-06-24 18:11:...| sensor_1|     31.48|kritisch|\n|2025-06-24 18:11:...|    7|2025-06-24 18:11:...| sensor_4|     34.74|kritisch|\n|2025-06-24 18:11:...|   11|2025-06-24 18:11:...| sensor_3|     22.69|  normal|\n+--------------------+-----+--------------------+---------+----------+--------+\nonly showing top 20 rows\n\n"
     ]
    }
   ],
   "source": [
    "# Zeige klassifizierte Live-Daten mit Status\n",
    "spark.sql(\"SELECT * FROM sensor_daten_mit_status\").show()\n"
   ]
  },
  {
   "cell_type": "markdown",
   "metadata": {
    "application/vnd.databricks.v1+cell": {
     "cellMetadata": {
      "byteLimit": 2048000,
      "rowLimit": 10000
     },
     "inputWidgets": {},
     "nuid": "1aa5a161-e4f4-4642-9c82-c5e410a98045",
     "showTitle": false,
     "tableResultSettingsMap": {},
     "title": ""
    }
   },
   "source": [
    "## 5. Visualiserung in Databricks"
   ]
  },
  {
   "cell_type": "code",
   "execution_count": 0,
   "metadata": {
    "application/vnd.databricks.v1+cell": {
     "cellMetadata": {
      "byteLimit": 2048000,
      "rowLimit": 10000
     },
     "inputWidgets": {},
     "nuid": "658369ce-58ca-404b-9acb-2ae95ac7f940",
     "showTitle": false,
     "tableResultSettingsMap": {},
     "title": ""
    }
   },
   "outputs": [
    {
     "output_type": "display_data",
     "data": {
      "text/html": [
       "<style scoped>\n",
       "  .table-result-container {\n",
       "    max-height: 300px;\n",
       "    overflow: auto;\n",
       "  }\n",
       "  table, th, td {\n",
       "    border: 1px solid black;\n",
       "    border-collapse: collapse;\n",
       "  }\n",
       "  th, td {\n",
       "    padding: 5px;\n",
       "  }\n",
       "  th {\n",
       "    text-align: left;\n",
       "  }\n",
       "</style><div class='table-result-container'><table class='table-result'><thead style='background-color: white'><tr><th>status</th><th>anzahl</th></tr></thead><tbody><tr><td>normal</td><td>177</td></tr><tr><td>kritisch</td><td>193</td></tr><tr><td>niedrig</td><td>53</td></tr></tbody></table></div>"
      ]
     },
     "metadata": {
      "application/vnd.databricks.v1+output": {
       "addedWidgets": {},
       "aggData": [],
       "aggError": "",
       "aggOverflow": false,
       "aggSchema": [],
       "aggSeriesLimitReached": false,
       "aggType": "",
       "arguments": {},
       "columnCustomDisplayInfos": {},
       "data": [
        [
         "normal",
         177
        ],
        [
         "kritisch",
         193
        ],
        [
         "niedrig",
         53
        ]
       ],
       "datasetInfos": [],
       "dbfsResultPath": null,
       "isJsonSchema": true,
       "metadata": {},
       "overflow": false,
       "plotOptions": {
        "customPlotOptions": {},
        "displayType": "table",
        "pivotAggregation": null,
        "pivotColumns": null,
        "xColumns": null,
        "yColumns": null
       },
       "removedWidgets": [],
       "schema": [
        {
         "metadata": "{}",
         "name": "status",
         "type": "\"string\""
        },
        {
         "metadata": "{}",
         "name": "anzahl",
         "type": "\"long\""
        }
       ],
       "type": "table"
      }
     },
     "output_type": "display_data"
    }
   ],
   "source": [
    "display(spark.sql(\"\"\"\n",
    "  SELECT status, COUNT(*) as anzahl\n",
    "  FROM sensor_daten_mit_status\n",
    "  GROUP BY status\n",
    "\"\"\"))\n"
   ]
  },
  {
   "cell_type": "code",
   "execution_count": 0,
   "metadata": {
    "application/vnd.databricks.v1+cell": {
     "cellMetadata": {
      "byteLimit": 2048000,
      "rowLimit": 10000
     },
     "inputWidgets": {},
     "nuid": "90681717-1640-4f0c-82a7-725813f2c6eb",
     "showTitle": false,
     "tableResultSettingsMap": {},
     "title": ""
    }
   },
   "outputs": [
    {
     "output_type": "display_data",
     "data": {
      "text/html": [
       "<style scoped>\n",
       "  .table-result-container {\n",
       "    max-height: 300px;\n",
       "    overflow: auto;\n",
       "  }\n",
       "  table, th, td {\n",
       "    border: 1px solid black;\n",
       "    border-collapse: collapse;\n",
       "  }\n",
       "  th, td {\n",
       "    padding: 5px;\n",
       "  }\n",
       "  th {\n",
       "    text-align: left;\n",
       "  }\n",
       "</style><div class='table-result-container'><table class='table-result'><thead style='background-color: white'><tr><th>status</th><th>anzahl_messwerte</th><th>durchschnitt_temperatur</th><th>max_temperatur</th></tr></thead><tbody><tr><td>kritisch</td><td>193</td><td>31.31</td><td>34.99</td></tr><tr><td>niedrig</td><td>53</td><td>21.03</td><td>21.99</td></tr><tr><td>normal</td><td>177</td><td>24.97</td><td>28.0</td></tr></tbody></table></div>"
      ]
     },
     "metadata": {
      "application/vnd.databricks.v1+output": {
       "addedWidgets": {},
       "aggData": [],
       "aggError": "",
       "aggOverflow": false,
       "aggSchema": [],
       "aggSeriesLimitReached": false,
       "aggType": "",
       "arguments": {},
       "columnCustomDisplayInfos": {},
       "data": [
        [
         "kritisch",
         193,
         31.31,
         34.99
        ],
        [
         "niedrig",
         53,
         21.03,
         21.99
        ],
        [
         "normal",
         177,
         24.97,
         28.0
        ]
       ],
       "datasetInfos": [],
       "dbfsResultPath": null,
       "isJsonSchema": true,
       "metadata": {},
       "overflow": false,
       "plotOptions": {
        "customPlotOptions": {},
        "displayType": "table",
        "pivotAggregation": null,
        "pivotColumns": null,
        "xColumns": null,
        "yColumns": null
       },
       "removedWidgets": [],
       "schema": [
        {
         "metadata": "{}",
         "name": "status",
         "type": "\"string\""
        },
        {
         "metadata": "{}",
         "name": "anzahl_messwerte",
         "type": "\"long\""
        },
        {
         "metadata": "{}",
         "name": "durchschnitt_temperatur",
         "type": "\"double\""
        },
        {
         "metadata": "{}",
         "name": "max_temperatur",
         "type": "\"double\""
        }
       ],
       "type": "table"
      }
     },
     "output_type": "display_data"
    }
   ],
   "source": [
    "display(spark.sql(\"\"\"\n",
    "SELECT \n",
    "  status,\n",
    "  COUNT(*) AS anzahl_messwerte,\n",
    "  ROUND(AVG(temperatur), 2) AS durchschnitt_temperatur,\n",
    "  MAX(temperatur) AS max_temperatur\n",
    "FROM sensor_daten_mit_status\n",
    "WHERE zeitstempel >= current_timestamp() - INTERVAL 1 HOUR\n",
    "GROUP BY status\n",
    "ORDER BY status\n",
    "\"\"\"))\n"
   ]
  },
  {
   "cell_type": "markdown",
   "metadata": {
    "application/vnd.databricks.v1+cell": {
     "cellMetadata": {
      "byteLimit": 2048000,
      "rowLimit": 10000
     },
     "inputWidgets": {},
     "nuid": "89bc113e-955e-45bb-8212-1c80f3d7db4e",
     "showTitle": false,
     "tableResultSettingsMap": {},
     "title": ""
    }
   },
   "source": [
    "## 6. Persistente Speicherung (nicht möglich da keine Schreibrechte)"
   ]
  },
  {
   "cell_type": "code",
   "execution_count": 0,
   "metadata": {
    "application/vnd.databricks.v1+cell": {
     "cellMetadata": {
      "byteLimit": 2048000,
      "rowLimit": 10000
     },
     "inputWidgets": {},
     "nuid": "33132e7e-ae98-4bd3-97c8-02bac7149ac6",
     "showTitle": false,
     "tableResultSettingsMap": {},
     "title": ""
    }
   },
   "outputs": [],
   "source": [
    "#kritische_temperaturen.writeStream \\\n",
    "#    .format(\"parquet\") \\\n",
    "#    .option(\"path\", \"/mnt/data/kritisch/\") \\\n",
    " #   .option(\"checkpointLocation\", \"/mnt/checkpoint/kritisch/\") \\\n",
    "  #  .outputMode(\"append\") \\\n",
    "   # .start()\n"
   ]
  },
  {
   "cell_type": "markdown",
   "metadata": {
    "application/vnd.databricks.v1+cell": {
     "cellMetadata": {
      "byteLimit": 2048000,
      "rowLimit": 10000
     },
     "inputWidgets": {},
     "nuid": "40ec92f0-bb27-4e26-b124-00d6e07d7b92",
     "showTitle": false,
     "tableResultSettingsMap": {},
     "title": ""
    }
   },
   "source": [
    "## 7. Aggregation für Trend"
   ]
  },
  {
   "cell_type": "code",
   "execution_count": 0,
   "metadata": {
    "application/vnd.databricks.v1+cell": {
     "cellMetadata": {
      "byteLimit": 2048000,
      "rowLimit": 10000
     },
     "inputWidgets": {},
     "nuid": "2a6e6b30-93ef-4b58-93a4-6c986f9d4b3e",
     "showTitle": false,
     "tableResultSettingsMap": {},
     "title": ""
    }
   },
   "outputs": [],
   "source": [
    "from pyspark.sql.functions import window, avg\n",
    "\n",
    "# Aggregiere Temperaturdaten pro Sensor in 1-Minuten-Zeitfenstern\n",
    "# Dies dient als Grundlage für eine Trendlinie (z. B. Liniendiagramm)\n",
    "trend_stream = (\n",
    "    simulierter_stream\n",
    "    .groupBy(\n",
    "        window(\"zeitstempel\", \"1 minute\"),  # Nutzt das gleiche Zeitfenster wie in Schritt 2\n",
    "        \"sensor_id\"\n",
    "    )\n",
    "    .agg(\n",
    "        avg(\"temperatur\").alias(\"temperatur_avg\")\n",
    "    )\n",
    "    .selectExpr(\n",
    "        \"window.start as fenster_start\",\n",
    "        \"sensor_id\",\n",
    "        \"round(temperatur_avg, 2) as temperatur_durchschnitt\"\n",
    "    )\n",
    ")\n",
    "\n",
    "# Schreibe den Trend-Aggregations-Stream in eine neue In-Memory-View\n",
    "trend_query = (\n",
    "    trend_stream.writeStream\n",
    "    .format(\"memory\")\n",
    "    .queryName(\"temperatur_trend\")\n",
    "    .outputMode(\"complete\")\n",
    "    .start()\n",
    ")\n"
   ]
  },
  {
   "cell_type": "code",
   "execution_count": 0,
   "metadata": {
    "application/vnd.databricks.v1+cell": {
     "cellMetadata": {
      "byteLimit": 2048000,
      "rowLimit": 10000
     },
     "inputWidgets": {},
     "nuid": "0d4be91b-bcb7-45b0-8455-a5ccb372ef23",
     "showTitle": false,
     "tableResultSettingsMap": {},
     "title": ""
    }
   },
   "outputs": [
    {
     "output_type": "display_data",
     "data": {
      "text/html": [
       "<style scoped>\n",
       "  .table-result-container {\n",
       "    max-height: 300px;\n",
       "    overflow: auto;\n",
       "  }\n",
       "  table, th, td {\n",
       "    border: 1px solid black;\n",
       "    border-collapse: collapse;\n",
       "  }\n",
       "  th, td {\n",
       "    padding: 5px;\n",
       "  }\n",
       "  th {\n",
       "    text-align: left;\n",
       "  }\n",
       "</style><div class='table-result-container'><table class='table-result'><thead style='background-color: white'><tr><th>fenster_start</th><th>sensor_id</th><th>temperatur_durchschnitt</th></tr></thead><tbody><tr><td>2025-06-24T18:16:00Z</td><td>sensor_4</td><td>27.55</td></tr><tr><td>2025-06-24T18:17:00Z</td><td>sensor_1</td><td>26.15</td></tr><tr><td>2025-06-24T18:11:00Z</td><td>sensor_4</td><td>25.93</td></tr><tr><td>2025-06-24T18:13:00Z</td><td>sensor_2</td><td>29.12</td></tr><tr><td>2025-06-24T18:15:00Z</td><td>sensor_2</td><td>26.66</td></tr><tr><td>2025-06-24T18:15:00Z</td><td>sensor_4</td><td>27.99</td></tr><tr><td>2025-06-24T18:17:00Z</td><td>sensor_4</td><td>28.95</td></tr><tr><td>2025-06-24T18:11:00Z</td><td>sensor_1</td><td>27.17</td></tr><tr><td>2025-06-24T18:16:00Z</td><td>sensor_5</td><td>27.59</td></tr><tr><td>2025-06-24T18:17:00Z</td><td>sensor_2</td><td>28.74</td></tr><tr><td>2025-06-24T18:17:00Z</td><td>sensor_5</td><td>28.19</td></tr><tr><td>2025-06-24T18:11:00Z</td><td>sensor_2</td><td>27.03</td></tr><tr><td>2025-06-24T18:13:00Z</td><td>sensor_3</td><td>28.17</td></tr><tr><td>2025-06-24T18:16:00Z</td><td>sensor_1</td><td>27.8</td></tr><tr><td>2025-06-24T18:18:00Z</td><td>sensor_3</td><td>28.9</td></tr><tr><td>2025-06-24T18:13:00Z</td><td>sensor_4</td><td>28.06</td></tr><tr><td>2025-06-24T18:14:00Z</td><td>sensor_3</td><td>28.99</td></tr><tr><td>2025-06-24T18:15:00Z</td><td>sensor_3</td><td>26.36</td></tr><tr><td>2025-06-24T18:13:00Z</td><td>sensor_5</td><td>28.88</td></tr><tr><td>2025-06-24T18:13:00Z</td><td>sensor_1</td><td>27.97</td></tr><tr><td>2025-06-24T18:15:00Z</td><td>sensor_5</td><td>27.82</td></tr><tr><td>2025-06-24T18:16:00Z</td><td>sensor_2</td><td>27.99</td></tr><tr><td>2025-06-24T18:14:00Z</td><td>sensor_5</td><td>26.03</td></tr><tr><td>2025-06-24T18:16:00Z</td><td>sensor_3</td><td>27.87</td></tr><tr><td>2025-06-24T18:14:00Z</td><td>sensor_2</td><td>27.72</td></tr><tr><td>2025-06-24T18:12:00Z</td><td>sensor_2</td><td>27.64</td></tr><tr><td>2025-06-24T18:12:00Z</td><td>sensor_3</td><td>25.11</td></tr><tr><td>2025-06-24T18:18:00Z</td><td>sensor_5</td><td>28.18</td></tr><tr><td>2025-06-24T18:17:00Z</td><td>sensor_3</td><td>28.62</td></tr><tr><td>2025-06-24T18:15:00Z</td><td>sensor_1</td><td>26.53</td></tr><tr><td>2025-06-24T18:14:00Z</td><td>sensor_4</td><td>26.26</td></tr><tr><td>2025-06-24T18:12:00Z</td><td>sensor_1</td><td>26.97</td></tr><tr><td>2025-06-24T18:18:00Z</td><td>sensor_1</td><td>23.56</td></tr><tr><td>2025-06-24T18:11:00Z</td><td>sensor_5</td><td>27.76</td></tr><tr><td>2025-06-24T18:14:00Z</td><td>sensor_1</td><td>26.78</td></tr><tr><td>2025-06-24T18:11:00Z</td><td>sensor_3</td><td>29.28</td></tr><tr><td>2025-06-24T18:12:00Z</td><td>sensor_5</td><td>28.55</td></tr><tr><td>2025-06-24T18:12:00Z</td><td>sensor_4</td><td>27.36</td></tr><tr><td>2025-06-24T18:18:00Z</td><td>sensor_2</td><td>27.81</td></tr></tbody></table></div>"
      ]
     },
     "metadata": {
      "application/vnd.databricks.v1+output": {
       "addedWidgets": {},
       "aggData": [],
       "aggError": "",
       "aggOverflow": false,
       "aggSchema": [],
       "aggSeriesLimitReached": false,
       "aggType": "",
       "arguments": {},
       "columnCustomDisplayInfos": {},
       "data": [
        [
         "2025-06-24T18:16:00Z",
         "sensor_4",
         27.55
        ],
        [
         "2025-06-24T18:17:00Z",
         "sensor_1",
         26.15
        ],
        [
         "2025-06-24T18:11:00Z",
         "sensor_4",
         25.93
        ],
        [
         "2025-06-24T18:13:00Z",
         "sensor_2",
         29.12
        ],
        [
         "2025-06-24T18:15:00Z",
         "sensor_2",
         26.66
        ],
        [
         "2025-06-24T18:15:00Z",
         "sensor_4",
         27.99
        ],
        [
         "2025-06-24T18:17:00Z",
         "sensor_4",
         28.95
        ],
        [
         "2025-06-24T18:11:00Z",
         "sensor_1",
         27.17
        ],
        [
         "2025-06-24T18:16:00Z",
         "sensor_5",
         27.59
        ],
        [
         "2025-06-24T18:17:00Z",
         "sensor_2",
         28.74
        ],
        [
         "2025-06-24T18:17:00Z",
         "sensor_5",
         28.19
        ],
        [
         "2025-06-24T18:11:00Z",
         "sensor_2",
         27.03
        ],
        [
         "2025-06-24T18:13:00Z",
         "sensor_3",
         28.17
        ],
        [
         "2025-06-24T18:16:00Z",
         "sensor_1",
         27.8
        ],
        [
         "2025-06-24T18:18:00Z",
         "sensor_3",
         28.9
        ],
        [
         "2025-06-24T18:13:00Z",
         "sensor_4",
         28.06
        ],
        [
         "2025-06-24T18:14:00Z",
         "sensor_3",
         28.99
        ],
        [
         "2025-06-24T18:15:00Z",
         "sensor_3",
         26.36
        ],
        [
         "2025-06-24T18:13:00Z",
         "sensor_5",
         28.88
        ],
        [
         "2025-06-24T18:13:00Z",
         "sensor_1",
         27.97
        ],
        [
         "2025-06-24T18:15:00Z",
         "sensor_5",
         27.82
        ],
        [
         "2025-06-24T18:16:00Z",
         "sensor_2",
         27.99
        ],
        [
         "2025-06-24T18:14:00Z",
         "sensor_5",
         26.03
        ],
        [
         "2025-06-24T18:16:00Z",
         "sensor_3",
         27.87
        ],
        [
         "2025-06-24T18:14:00Z",
         "sensor_2",
         27.72
        ],
        [
         "2025-06-24T18:12:00Z",
         "sensor_2",
         27.64
        ],
        [
         "2025-06-24T18:12:00Z",
         "sensor_3",
         25.11
        ],
        [
         "2025-06-24T18:18:00Z",
         "sensor_5",
         28.18
        ],
        [
         "2025-06-24T18:17:00Z",
         "sensor_3",
         28.62
        ],
        [
         "2025-06-24T18:15:00Z",
         "sensor_1",
         26.53
        ],
        [
         "2025-06-24T18:14:00Z",
         "sensor_4",
         26.26
        ],
        [
         "2025-06-24T18:12:00Z",
         "sensor_1",
         26.97
        ],
        [
         "2025-06-24T18:18:00Z",
         "sensor_1",
         23.56
        ],
        [
         "2025-06-24T18:11:00Z",
         "sensor_5",
         27.76
        ],
        [
         "2025-06-24T18:14:00Z",
         "sensor_1",
         26.78
        ],
        [
         "2025-06-24T18:11:00Z",
         "sensor_3",
         29.28
        ],
        [
         "2025-06-24T18:12:00Z",
         "sensor_5",
         28.55
        ],
        [
         "2025-06-24T18:12:00Z",
         "sensor_4",
         27.36
        ],
        [
         "2025-06-24T18:18:00Z",
         "sensor_2",
         27.81
        ]
       ],
       "datasetInfos": [],
       "dbfsResultPath": null,
       "isJsonSchema": true,
       "metadata": {},
       "overflow": false,
       "plotOptions": {
        "customPlotOptions": {},
        "displayType": "table",
        "pivotAggregation": null,
        "pivotColumns": null,
        "xColumns": null,
        "yColumns": null
       },
       "removedWidgets": [],
       "schema": [
        {
         "metadata": "{}",
         "name": "fenster_start",
         "type": "\"timestamp\""
        },
        {
         "metadata": "{}",
         "name": "sensor_id",
         "type": "\"string\""
        },
        {
         "metadata": "{}",
         "name": "temperatur_durchschnitt",
         "type": "\"double\""
        }
       ],
       "type": "table"
      }
     },
     "output_type": "display_data"
    },
    {
     "output_type": "display_data",
     "data": {
      "text/plain": [
       "Databricks visualization. Run in Databricks to view."
      ]
     },
     "metadata": {
      "application/vnd.databricks.v1.subcommand+json": {
       "baseErrorDetails": null,
       "bindings": {},
       "collapsed": false,
       "command": "%python\n__backend_agg_display_orig = display\n__backend_agg_dfs = []\ndef __backend_agg_display_new(df):\n    __backend_agg_df_modules = [\"pandas.core.frame\", \"databricks.koalas.frame\", \"pyspark.sql.dataframe\", \"pyspark.pandas.frame\", \"pyspark.sql.connect.dataframe\"]\n    if (type(df).__module__ in __backend_agg_df_modules and type(df).__name__ == 'DataFrame') or isinstance(df, list):\n        __backend_agg_dfs.append(df)\n\ndisplay = __backend_agg_display_new\n\ndef __backend_agg_user_code_fn():\n    import base64\n    exec(base64.standard_b64decode(\"ZGlzcGxheShzcGFyay5zcWwoIlNFTEVDVCAqIEZST00gdGVtcGVyYXR1cl90cmVuZCIpKQo=\").decode())\n\ntry:\n    # run user code\n    __backend_agg_user_code_fn()\n\n    #reset display function\n    display = __backend_agg_display_orig\n\n    if len(__backend_agg_dfs) > 0:\n        # create a temp view\n        if type(__backend_agg_dfs[0]).__module__ == \"databricks.koalas.frame\":\n            # koalas dataframe\n            __backend_agg_dfs[0].to_spark().createOrReplaceTempView(\"DatabricksView68cbe68\")\n        elif type(__backend_agg_dfs[0]).__module__ == \"pandas.core.frame\" or isinstance(__backend_agg_dfs[0], list):\n            # pandas dataframe\n            spark.createDataFrame(__backend_agg_dfs[0]).createOrReplaceTempView(\"DatabricksView68cbe68\")\n        else:\n            __backend_agg_dfs[0].createOrReplaceTempView(\"DatabricksView68cbe68\")\n        #run backend agg\n        display(spark.sql(\"\"\"WITH q AS (select * from DatabricksView68cbe68) SELECT `fenster_start`,`sensor_id`,SUM(`temperatur_durchschnitt`) `column_956f97bd158` FROM q GROUP BY `fenster_start`,`sensor_id`\"\"\"))\n    else:\n        displayHTML(\"dataframe no longer exists. If you're using dataframe.display(), use display(dataframe) instead.\")\n\n\nfinally:\n    spark.sql(\"drop view if exists DatabricksView68cbe68\")\n    display = __backend_agg_display_orig\n    del __backend_agg_display_new\n    del __backend_agg_display_orig\n    del __backend_agg_dfs\n    del __backend_agg_user_code_fn\n\n",
       "commandTitle": "Trend-Diagramm",
       "commandType": "auto",
       "commandVersion": 0,
       "commentThread": [],
       "commentsVisible": false,
       "contentSha256Hex": null,
       "customPlotOptions": {
        "redashChart": [
         {
          "key": "type",
          "value": "CHART"
         },
         {
          "key": "options",
          "value": {
           "alignYAxesAtZero": true,
           "coefficient": 1,
           "columnConfigurationMap": {
            "series": {
             "column": "sensor_id",
             "id": "column_956f97bd157"
            },
            "x": {
             "column": "fenster_start",
             "id": "column_956f97bd156"
            },
            "y": [
             {
              "column": "temperatur_durchschnitt",
              "id": "column_956f97bd158",
              "transform": "SUM"
             }
            ]
           },
           "dateTimeFormat": "DD/MM/YYYY HH:mm",
           "direction": {
            "type": "counterclockwise"
           },
           "error_y": {
            "type": "data",
            "visible": true
           },
           "globalSeriesType": "line",
           "legend": {
            "traceorder": "normal"
           },
           "missingValuesAsZero": true,
           "numberFormat": "0,0.[00000]",
           "percentFormat": "0[.]00%",
           "series": {
            "error_y": {
             "type": "data",
             "visible": true
            },
            "stacking": null
           },
           "seriesOptions": {
            "column_956f97bd158": {
             "name": "temperatur_durchschnitt",
             "yAxis": 0
            }
           },
           "showDataLabels": false,
           "sizemode": "diameter",
           "sortX": true,
           "sortY": true,
           "swappedAxes": false,
           "textFormat": "",
           "useAggregationsUi": true,
           "valuesOptions": {},
           "version": 2,
           "xAxis": {
            "labels": {
             "enabled": true
            },
            "type": "-"
           },
           "yAxis": [
            {
             "type": "-"
            },
            {
             "opposite": true,
             "type": "-"
            }
           ]
          }
         }
        ]
       },
       "datasetPreviewNameToCmdIdMap": {},
       "diffDeletes": [],
       "diffInserts": [],
       "displayType": "redashChart",
       "error": null,
       "errorDetails": null,
       "errorSummary": null,
       "errorTraceType": null,
       "finishTime": 0,
       "globalVars": {},
       "guid": "",
       "height": "auto",
       "hideCommandCode": false,
       "hideCommandResult": false,
       "iPythonMetadata": null,
       "inputWidgets": {},
       "isLockedInExamMode": false,
       "latestUser": "a user",
       "latestUserId": null,
       "listResultMetadata": null,
       "metadata": {
        "byteLimit": 2048000,
        "rowLimit": 10000
       },
       "nuid": "4c8da6f7-1d8c-46d3-80ce-f94fcd5b6017",
       "origId": 0,
       "parentHierarchy": [],
       "pivotAggregation": null,
       "pivotColumns": null,
       "position": 22.0,
       "resultDbfsErrorMessage": null,
       "resultDbfsStatus": "INLINED_IN_TREE",
       "results": null,
       "showCommandTitle": false,
       "startTime": 0,
       "state": "input",
       "streamStates": {},
       "subcommandOptions": {
        "queryPlan": {
         "groups": [
          {
           "column": "fenster_start",
           "type": "column"
          },
          {
           "column": "sensor_id",
           "type": "column"
          }
         ],
         "selects": [
          {
           "column": "fenster_start",
           "type": "column"
          },
          {
           "column": "sensor_id",
           "type": "column"
          },
          {
           "alias": "column_956f97bd158",
           "args": [
            {
             "column": "temperatur_durchschnitt",
             "type": "column"
            }
           ],
           "function": "SUM",
           "type": "function"
          }
         ]
        }
       },
       "submitTime": 0,
       "subtype": "tableResultSubCmd.visualization",
       "tableResultIndex": 0,
       "tableResultSettingsMap": {},
       "useConsistentColors": false,
       "version": "CommandV1",
       "width": "auto",
       "workflows": [],
       "xColumns": null,
       "yColumns": null
      }
     },
     "output_type": "display_data"
    }
   ],
   "source": [
    "display(spark.sql(\"SELECT * FROM temperatur_trend\"))\n"
   ]
  }
 ],
 "metadata": {
  "application/vnd.databricks.v1+notebook": {
   "computePreferences": null,
   "dashboards": [],
   "environmentMetadata": {
    "base_environment": "",
    "environment_version": "2"
   },
   "inputWidgetPreferences": null,
   "language": "python",
   "notebookMetadata": {
    "pythonIndentUnit": 4
   },
   "notebookName": "RösnerTest",
   "widgets": {}
  },
  "language_info": {
   "name": "python"
  }
 },
 "nbformat": 4,
 "nbformat_minor": 0
}